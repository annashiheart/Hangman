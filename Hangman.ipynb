{
  "nbformat": 4,
  "nbformat_minor": 0,
  "metadata": {
    "colab": {
      "name": "Hangman.ipynb",
      "provenance": [],
      "collapsed_sections": []
    },
    "kernelspec": {
      "display_name": "Python 3",
      "name": "python3"
    }
  },
  "cells": [
    {
      "cell_type": "code",
      "metadata": {
        "id": "B7QTTaiJ-f6R"
      },
      "source": [
        "#choose a word\n",
        "def intro():\n",
        "  print(\"Welcome to Hangman!\", \"Please enter a word:\")\n",
        "def confirm(x):\n",
        "  print('')\n",
        "  print('')\n",
        "  print('Great! Your word is \"'+x+ '\"')"
      ],
      "execution_count": null,
      "outputs": []
    },
    {
      "cell_type": "code",
      "metadata": {
        "id": "TFV_QmqfA4Gc"
      },
      "source": [
        "#guess letter, check if inside\n",
        "def guess(x,b_letters):\n",
        "  correct = []\n",
        "  for i in range(len(b_letters)):\n",
        "    if x == b_letters[i]:\n",
        "      correct.append(i)\n",
        "\n",
        "\n",
        "#split words\n",
        "def split(word): \n",
        "    return [char for char in word]  "
      ],
      "execution_count": null,
      "outputs": []
    },
    {
      "cell_type": "code",
      "metadata": {
        "colab": {
          "base_uri": "https://localhost:8080/"
        },
        "id": "IkTqHR7vAR5S",
        "outputId": "e89817e1-d362-440b-b761-e923892f3f06"
      },
      "source": [
        "#game player 1\n",
        "intro()\n",
        "h_word = input()\n",
        "confirm(h_word)\n",
        "\n",
        "h_letters = split(h_word)"
      ],
      "execution_count": null,
      "outputs": [
        {
          "output_type": "stream",
          "text": [
            "Welcome to Hangman! Please enter a word:\n",
            "joleeen\n",
            "\n",
            "\n",
            "Great! Your word is \"joleeen\"\n"
          ],
          "name": "stdout"
        }
      ]
    },
    {
      "cell_type": "code",
      "metadata": {
        "colab": {
          "base_uri": "https://localhost:8080/"
        },
        "id": "ck9mnOWfE4rC",
        "outputId": "1e2510a9-fd60-4e2f-cd45-414e34de1ae2"
      },
      "source": [
        "#game player 2\n",
        "print('Your word is:')\n",
        "show=[]\n",
        "for i in range(len(h_letters)):\n",
        "  show.append('_ ')\n",
        "for i in range(len(show)):\n",
        "  print(show[i],end='')\n",
        "print('')\n",
        "print('')\n",
        "print(\"Guess a letter, and we'll tell you if you're right or wrong.\")\n",
        "print('Feel free to guess the word at any point in the game if you think you know it.')\n",
        "print('')\n",
        "print('')\n",
        "\n",
        "tries=0\n",
        "while tries<6:\n",
        "  correct = []\n",
        "  x=input()\n",
        "\n",
        "  #check if the guess was right\n",
        "  if x == h_word:\n",
        "    print('')\n",
        "    print('Congratulations, you did it! You guessed the right word and are saved!')\n",
        "    break\n",
        "  \n",
        "  #actually going now\n",
        "  for i in range(len(h_letters)):\n",
        "    if x == h_letters[i]:\n",
        "      correct.append(i)\n",
        "  if correct==[]:\n",
        "    tries=tries+1\n",
        "    print('Wrong guesses remaining:',6-tries)\n",
        "  else:\n",
        "    for i in range(len(correct)):\n",
        "      show[correct[i]]=x\n",
        "    print (*show, sep =' ') \n",
        "  \n",
        "  #check if word was guessed\n",
        "  blank=0\n",
        "  for i in range(len(h_letters)):\n",
        "    if '_ ' == show[i]:\n",
        "      blank+=1\n",
        "  if blank == 0:\n",
        "    print('Congratulations, you did it! You guessed the right word and are saved from decapitation!')\n",
        "    break\n",
        "  else:\n",
        "    blank=[]\n",
        "else:\n",
        "  print('You died. The word was \"'+h_word+'\"')"
      ],
      "execution_count": null,
      "outputs": [
        {
          "output_type": "stream",
          "text": [
            "Your word is:\n",
            "_ _ _ _ _ _ _ \n",
            "\n",
            "Guess a letter, and we'll tell you if you're right or wrong.\n",
            "Feel free to guess the word at any point in the game if you think you know it.\n",
            "\n",
            "\n",
            "j\n",
            "j _  _  _  _  _  _ \n",
            "jo\n",
            "Wrong guesses remaining: 5\n",
            "o\n",
            "j o _  _  _  _  _ \n",
            "l\n",
            "j o l _  _  _  _ \n",
            "e\n",
            "j o l e e e _ \n",
            "joleeen\n",
            "\n",
            "Congratulations, you did it! You guessed the right word and are saved!\n"
          ],
          "name": "stdout"
        }
      ]
    }
  ]
}