{
  "nbformat": 4,
  "nbformat_minor": 0,
  "metadata": {
    "colab": {
      "name": "Hangman.ipynb",
      "provenance": [],
      "collapsed_sections": [],
      "authorship_tag": "ABX9TyMGx8Fy8J53Lkznlp6fgvcQ",
      "include_colab_link": true
    },
    "kernelspec": {
      "display_name": "Python 3",
      "name": "python3"
    }
  },
  "cells": [
    {
      "cell_type": "markdown",
      "metadata": {
        "id": "view-in-github",
        "colab_type": "text"
      },
      "source": [
        "<a href=\"https://colab.research.google.com/github/annashiheart/giant-playground/blob/main/Hangman.ipynb\" target=\"_parent\"><img src=\"https://colab.research.google.com/assets/colab-badge.svg\" alt=\"Open In Colab\"/></a>"
      ]
    },
    {
      "cell_type": "code",
      "metadata": {
        "id": "B7QTTaiJ-f6R"
      },
      "source": [
        "#choose a word\n",
        "def intro():\n",
        "  print(\"Welcome to Hangman!\", \"Please enter a word:\")\n",
        "def confirm(x):\n",
        "  print('')\n",
        "  print('')\n",
        "  print('Great! Your word is \"'+x+ '\"')"
      ],
      "execution_count": null,
      "outputs": []
    },
    {
      "cell_type": "code",
      "metadata": {
        "id": "TFV_QmqfA4Gc"
      },
      "source": [
        "#guess letter, check if inside\n",
        "def guess(x,b_letters):\n",
        "  correct = []\n",
        "  for i in range(len(b_letters)):\n",
        "    if x == b_letters[i]:\n",
        "      correct.append(i)\n",
        "\n",
        "\n",
        "#split words\n",
        "def split(word): \n",
        "    return [char for char in word]  "
      ],
      "execution_count": null,
      "outputs": []
    },
    {
      "cell_type": "code",
      "metadata": {
        "id": "IkTqHR7vAR5S"
      },
      "source": [
        "#game player 1\n",
        "intro()\n",
        "h_word = input()\n",
        "confirm(h_word)\n",
        "\n",
        "h_letters = split(h_word)"
      ],
      "execution_count": null,
      "outputs": []
    },
    {
      "cell_type": "code",
      "metadata": {
        "id": "ck9mnOWfE4rC"
      },
      "source": [
        "#game player 2\n",
        "print('Your word is:')\n",
        "show=[]\n",
        "for i in range(len(h_letters)):\n",
        "  show.append('_ ')\n",
        "for i in range(len(show)):\n",
        "  print(show[i],end='')\n",
        "print('')\n",
        "print('')\n",
        "print(\"Guess a letter, and we'll tell you if you're right or wrong.\")\n",
        "print('Feel free to guess the word at any point in the game if you think you know it.')\n",
        "print('')\n",
        "print('')\n",
        "\n",
        "tries=0\n",
        "while tries<6:\n",
        "  correct = []\n",
        "  x=input()\n",
        "\n",
        "  #check if the guess was right\n",
        "  if x == h_word:\n",
        "    print('')\n",
        "    print('Congratulations, you did it! You guessed the right word and are saved!')\n",
        "    break\n",
        "  \n",
        "  #actually going now\n",
        "  for i in range(len(h_letters)):\n",
        "    if x == h_letters[i]:\n",
        "      correct.append(i)\n",
        "  if correct==[]:\n",
        "    tries=tries+1\n",
        "    print('Wrong guesses remaining:',6-tries)\n",
        "  else:\n",
        "    for i in range(len(correct)):\n",
        "      show[correct[i]]=x\n",
        "    print (*show, sep =' ') \n",
        "  \n",
        "  #check if word was guessed\n",
        "  blank=0\n",
        "  for i in range(len(h_letters)):\n",
        "    if '_ ' == show[i]:\n",
        "      blank+=1\n",
        "  if blank == 0:\n",
        "    print('Congratulations, you did it! You guessed the right word and are saved from decapitation!')\n",
        "    break\n",
        "  else:\n",
        "    blank=[]\n",
        "else:\n",
        "  print('You died. The word was \"'+h_word+'\"')"
      ],
      "execution_count": null,
      "outputs": []
    }
  ]
}